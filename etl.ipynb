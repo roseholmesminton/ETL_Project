{
 "cells": [
  {
   "cell_type": "code",
   "execution_count": 42,
   "metadata": {},
   "outputs": [],
   "source": [
    "from sqlalchemy import create_engine  # to interact with postgresql\n",
    "import pyodbc  # to connect to sqlserver\n",
    "import pandas as pd  # data extract and load\n",
    "import os  # for the stored username and password in the system environment variables\n"
   ]
  },
  {
   "cell_type": "code",
   "execution_count": 43,
   "metadata": {},
   "outputs": [],
   "source": [
    "# get the password from environment variables\n",
    "\n",
    "pwd = os.environ['PGPASS']\n",
    "uid = os.environ['PGUID']\n"
   ]
  },
  {
   "cell_type": "code",
   "execution_count": 48,
   "metadata": {},
   "outputs": [],
   "source": [
    "# sqlserver db details\n",
    "driver = \"{SQL Server}\"\n",
    "server = \"DESKTOP-HD9D72O\"\n",
    "database = \"AdventureWorksDW2019\"\n"
   ]
  },
  {
   "cell_type": "code",
   "execution_count": 49,
   "metadata": {},
   "outputs": [
    {
     "name": "stdout",
     "output_type": "stream",
     "text": [
      "Connection error('08001', '[08001] [Microsoft][ODBC SQL Server Driver]Neither DSN nor SERVER keyword supplied (0) (SQLDriverConnect); [08001] [Microsoft][ODBC SQL Server Driver]Invalid connection string attribute (0)')\n"
     ]
    }
   ],
   "source": [
    "# extract data from sql server\n",
    "try:\n",
    "    cnxn = pyodbc.connect(\n",
    "        'DRIVER=' + driver + ';SERVER =' + server + '\\SQLEXPRESS'+ ';DATABASE =' + database + ';UID=' + uid + ';PWD==' + pwd)\n",
    "    cursor = cnxn.cursor()\n",
    "except Exception as e:\n",
    "    print(\"Connection error\" + str(e))\n",
    "\n",
    "def extract():\n",
    "    try:\n",
    "        # execute query\n",
    "        cnxn.execute(\"\"\"select t.name as table_name\\\n",
    "            from sys.tables to where t.name in ('DimProduct', 'DimProductCategory', 'DimProductSubCategory', 'DimSalesTerritory')\"\"\")\n",
    "        scr_tables = cnxn.cursor.fetchall()\n",
    "        for tbl in scr_tables:\n",
    "            # query and load save data to dataframe\n",
    "            df = pd.read_sql_query(f'select * from {tbl[0]}', src_conn)\n",
    "            load(df, tbl[0])\n",
    "    except Exception as e:\n",
    "        print(\"Data extract error: \" + str(e))\n",
    "    finally:\n",
    "        cnxn.close()\n"
   ]
  },
  {
   "cell_type": "code",
   "execution_count": 33,
   "metadata": {},
   "outputs": [],
   "source": [
    "# load data to postgres\n",
    "\n",
    "\n",
    "def load(df, tbl):\n",
    "    try:\n",
    "        rowes_imported = 0\n",
    "        engine = create_engine(\n",
    "            f'postgresql://{uid}:{pwd}@{server}:5432/AdventureWorks')\n",
    "        print(\n",
    "            f'importing rows {rows_imported} to {rows_imported + len(df) } ... for table {tbl}')\n",
    "        # save df to postres\n",
    "        df.to_sql(f'stg_{tbl}', engine, if_exists='replace', index=False)\n",
    "        rows_imported += len(df)\n",
    "        # print success message\n",
    "        print(\"Data import was successful\")\n",
    "    except Exception as e:\n",
    "        print(\"Data load error: \" + str(e))\n"
   ]
  },
  {
   "cell_type": "code",
   "execution_count": 34,
   "metadata": {},
   "outputs": [
    {
     "name": "stdout",
     "output_type": "stream",
     "text": [
      "Data extract error: ('08001', '[08001] [Microsoft][SQL Server Native Client 11.0]Neither DSN nor SERVER keyword supplied (0) (SQLDriverConnect); [08001] [Microsoft][SQL Server Native Client 11.0]Invalid connection string attribute (0)')\n",
      "Error while extracting data: local variable 'cnxn' referenced before assignment\n"
     ]
    }
   ],
   "source": [
    " try:\n",
    "    # call extract function\n",
    "    extract()\n",
    "except Exception as e:\n",
    "    print(\"Error while extracting data: \" + str(e))\n",
    "\n",
    "# try:\n",
    "#     # call load function\n",
    "#     load(df, tbl)\n",
    "# except Exception as e:\n",
    "#     print(\"Error while loading data: \" + str(e))"
   ]
  }
 ],
 "metadata": {
  "kernelspec": {
   "display_name": "Python 3.10.5 ('rosey-wcFTU90W')",
   "language": "python",
   "name": "python3"
  },
  "language_info": {
   "codemirror_mode": {
    "name": "ipython",
    "version": 3
   },
   "file_extension": ".py",
   "mimetype": "text/x-python",
   "name": "python",
   "nbconvert_exporter": "python",
   "pygments_lexer": "ipython3",
   "version": "3.10.5"
  },
  "orig_nbformat": 4,
  "vscode": {
   "interpreter": {
    "hash": "eb7652d52890883b63eb01b5c0a1f4a769ab7221433862fcf2160aaf76350eb9"
   }
  }
 },
 "nbformat": 4,
 "nbformat_minor": 2
}
