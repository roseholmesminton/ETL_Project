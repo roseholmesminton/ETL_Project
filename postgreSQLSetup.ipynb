{
 "cells": [
  {
   "cell_type": "code",
   "execution_count": 13,
   "metadata": {},
   "outputs": [],
   "source": [
    "import psycopg2\n"
   ]
  },
  {
   "cell_type": "markdown",
   "metadata": {},
   "source": [
    "Connect to the postgreSQL server and create AdventureWork database"
   ]
  },
  {
   "cell_type": "code",
   "execution_count": 15,
   "metadata": {},
   "outputs": [],
   "source": [
    "try:\n",
    "    conn = psycopg2.connect(\n",
    "        \"user=postgres password=corbla99)\n",
    "except psycopg2.Error as e:\n",
    "    print(\"Error: Could not make connection to the Postgres\")\n",
    "    print(e)\n",
    "try:\n",
    "    cur = conn.cursor()\n",
    "except psycopg2.Error as e:\n",
    "    print(\"Error: Could not get cursor to the Database\")\n",
    "    print(e)\n",
    "conn.set_session(autocommit=True)\n",
    "\n",
    "try:\n",
    "    cur.execute(\"CREATE DATABASE AdventureWorks \\\n",
    "        WITH \\\n",
    "        OWNER = postgres \\\n",
    "        ENCODING = 'UTF8' \\\n",
    "        LC_COLLATE = 'English_United States.1252' \\\n",
    "        TABLESPACE = pg_default \\\n",
    "        CONNECTION LIMIT = -1\")\n",
    "\n",
    "except psycopg2.Error as e:\n",
    "    print(\"Error Could not create Database\")\n",
    "    print(e)\n",
    "\n",
    "        "
   ]
  },
  {
   "cell_type": "markdown",
   "metadata": {},
   "source": [
    "Close the cursor.\n",
    "Close the connection."
   ]
  },
  {
   "cell_type": "code",
   "execution_count": 16,
   "metadata": {},
   "outputs": [],
   "source": [
    "cur.close()\n",
    "conn.close()\n"
   ]
  }
 ],
 "metadata": {
  "kernelspec": {
   "display_name": "Python 3.10.5 ('rosey-wcFTU90W')",
   "language": "python",
   "name": "python3"
  },
  "language_info": {
   "codemirror_mode": {
    "name": "ipython",
    "version": 3
   },
   "file_extension": ".py",
   "mimetype": "text/x-python",
   "name": "python",
   "nbconvert_exporter": "python",
   "pygments_lexer": "ipython3",
   "version": "3.10.5"
  },
  "orig_nbformat": 4,
  "vscode": {
   "interpreter": {
    "hash": "eb7652d52890883b63eb01b5c0a1f4a769ab7221433862fcf2160aaf76350eb9"
   }
  }
 },
 "nbformat": 4,
 "nbformat_minor": 2
}
